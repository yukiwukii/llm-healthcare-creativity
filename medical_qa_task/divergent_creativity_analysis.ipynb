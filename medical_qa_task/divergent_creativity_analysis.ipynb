{
 "cells": [
  {
   "cell_type": "code",
   "execution_count": 41,
   "metadata": {},
   "outputs": [],
   "source": [
    "import pandas as pd\n",
    "FILEHAL = '../hallucination/checkpoint_hallucination.csv'\n",
    "FILECRE = 'checkpoint_creativity.csv'"
   ]
  },
  {
   "cell_type": "code",
   "execution_count": 42,
   "metadata": {},
   "outputs": [
    {
     "name": "stderr",
     "output_type": "stream",
     "text": [
      "/var/folders/wn/w7mvvhb94b78hh4kwypxq2x80000gn/T/ipykernel_25987/1536307147.py:1: DtypeWarning: Columns (11) have mixed types. Specify dtype option on import or set low_memory=False.\n",
      "  dfhal = pd.read_csv(FILEHAL)\n",
      "/var/folders/wn/w7mvvhb94b78hh4kwypxq2x80000gn/T/ipykernel_25987/1536307147.py:2: DtypeWarning: Columns (11) have mixed types. Specify dtype option on import or set low_memory=False.\n",
      "  dfcre = pd.read_csv(FILECRE)\n"
     ]
    }
   ],
   "source": [
    "dfhal = pd.read_csv(FILEHAL)\n",
    "dfcre = pd.read_csv(FILECRE)"
   ]
  },
  {
   "cell_type": "code",
   "execution_count": 43,
   "metadata": {},
   "outputs": [
    {
     "name": "stdout",
     "output_type": "stream",
     "text": [
      "Index(['website_number', 'title', 'question', 'answer_sentences',\n",
      "       'is_impossible', 'llama3.1_answer', 'gemma2_answer', 'mistral_answer',\n",
      "       'llama3.1_noa', 'gemma2_noa', 'mistral_noa', 'gpt_judge',\n",
      "       'correctness_llama', 'correctness_gemma', 'correctness_mistral',\n",
      "       'helpfulness_llama', 'helpfulness_gemma', 'helpfulness_mistral',\n",
      "       'harmlessness_llama', 'harmlessness_gemma', 'harmlessness_mistral',\n",
      "       'reasoning_llama', 'reasoning_gemma', 'reasoning_mistral',\n",
      "       'efficiency_llama', 'efficiency_gemma', 'efficiency_mistral',\n",
      "       'bias_llama', 'bias_gemma', 'bias_mistral'],\n",
      "      dtype='object')\n",
      "Index(['website_number', 'title', 'question', 'answer_sentences',\n",
      "       'is_impossible', 'llama3.1_answer', 'gemma2_answer', 'mistral_answer',\n",
      "       'llama3.1_noa', 'gemma2_noa', 'mistral_noa', 'gpt_judge',\n",
      "       'correctness_llama', 'correctness_gemma', 'correctness_mistral',\n",
      "       'helpfulness_llama', 'helpfulness_gemma', 'helpfulness_mistral',\n",
      "       'harmlessness_llama', 'harmlessness_gemma', 'harmlessness_mistral',\n",
      "       'reasoning_llama', 'reasoning_gemma', 'reasoning_mistral',\n",
      "       'efficiency_llama', 'efficiency_gemma', 'efficiency_mistral',\n",
      "       'bias_llama', 'bias_gemma', 'bias_mistral', 'integration_llama',\n",
      "       'integration_gemma', 'integration_mistral', 'association_llama',\n",
      "       'association_gemma', 'association_mistral', 'context_llama',\n",
      "       'context_gemma', 'context_mistral', 'recombination_llama',\n",
      "       'recombination_gemma', 'recombination_mistral', 'perspective_llama',\n",
      "       'perspective_gemma', 'perspective_mistral'],\n",
      "      dtype='object')\n"
     ]
    }
   ],
   "source": [
    "# Define groups of duplicate column names mapping to the primary column\n",
    "def combineColumns(df):\n",
    "    column_groups = {\n",
    "        'correctness_llama': ['Correctness_llama', 'correction_llama', 'correctionness_llama'],\n",
    "        'correctness_gemma': ['Correctness_gemma', 'correction_gemma', 'correctionness_gemma'],\n",
    "        'correctness_mistral': ['Correctness_mistral', 'correction_mistral', 'correctionness_mistral'],\n",
    "        \n",
    "        'helpfulness_llama': ['Helpfulness_llama'],\n",
    "        'helpfulness_gemma': ['Helpfulness_gemma'],\n",
    "        'helpfulness_mistral': ['Helpfulness_mistral'],\n",
    "        \n",
    "        'harmlessness_llama': ['Harmlessness_llama', 'harmfulness_llama'],\n",
    "        'harmlessness_gemma': ['Harmlessness_gemma', 'harmfulness_gemma'],\n",
    "        'harmlessness_mistral': ['Harmlessness_mistral', 'harmfulness_mistral'],\n",
    "        \n",
    "        'reasoning_llama': ['Reasoning_llama'],\n",
    "        'reasoning_gemma': ['Reasoning_gemma'],\n",
    "        'reasoning_mistral': ['Reasoning_mistral'],\n",
    "        \n",
    "        'efficiency_llama': ['Efficiency_llama'],\n",
    "        'efficiency_gemma': ['Efficiency_gemma'],\n",
    "        'efficiency_mistral': ['Efficiency_mistral'],\n",
    "        \n",
    "        'bias_llama': ['Bias_llama'],\n",
    "        'bias_gemma': ['Bias_gemma'],\n",
    "        'bias_mistral': ['Bias_mistral']\n",
    "    }\n",
    "\n",
    "    # Loop through each group and merge values into the first column\n",
    "    for main_col, duplicates in column_groups.items():\n",
    "        for dup_col in duplicates:\n",
    "            if dup_col in df.columns:  # Check if duplicate column exists\n",
    "                df[main_col] = df[main_col].combine_first(df[dup_col])\n",
    "                df.drop(columns=[dup_col], inplace=True)  # Remove duplicate column\n",
    "    \n",
    "    df = df.drop(columns=['Verdict_llama', 'Verdict_gemma', 'Verdict_mistral'], errors='ignore')\n",
    "    df = df.dropna(axis=1, how='all')\n",
    "    df = df.drop_duplicates(subset=['question'])\n",
    "    print(df.columns)\n",
    "    return df\n",
    "\n",
    "dfhal_cleaned = combineColumns(dfhal)\n",
    "dfcre_cleaned = combineColumns(dfcre)\n"
   ]
  },
  {
   "cell_type": "code",
   "execution_count": 44,
   "metadata": {},
   "outputs": [
    {
     "data": {
      "text/plain": [
       "Index(['website_number', 'title', 'question', 'answer_sentences',\n",
       "       'is_impossible', 'llama3.1_answer', 'gemma2_answer', 'mistral_answer',\n",
       "       'llama3.1_noa', 'gemma2_noa', 'mistral_noa', 'gpt_judge',\n",
       "       'correctness_llama', 'correctness_gemma', 'correctness_mistral',\n",
       "       'helpfulness_llama', 'helpfulness_gemma', 'helpfulness_mistral',\n",
       "       'harmlessness_llama', 'harmlessness_gemma', 'harmlessness_mistral',\n",
       "       'reasoning_llama', 'reasoning_gemma', 'reasoning_mistral',\n",
       "       'efficiency_llama', 'efficiency_gemma', 'efficiency_mistral',\n",
       "       'bias_llama', 'bias_gemma', 'bias_mistral'],\n",
       "      dtype='object')"
      ]
     },
     "metadata": {},
     "output_type": "display_data"
    }
   ],
   "source": [
    "dfhal_cleaned = dfhal_cleaned.dropna(subset=['correctness_llama'])\n",
    "display(dfhal_cleaned.columns)"
   ]
  },
  {
   "cell_type": "code",
   "execution_count": 45,
   "metadata": {},
   "outputs": [
    {
     "name": "stdout",
     "output_type": "stream",
     "text": [
      "(34675, 33)\n",
      "(15934, 30)\n"
     ]
    }
   ],
   "source": [
    "print(dfhal.shape)\n",
    "print(dfhal_cleaned.shape)"
   ]
  },
  {
   "cell_type": "code",
   "execution_count": 46,
   "metadata": {},
   "outputs": [
    {
     "name": "stdout",
     "output_type": "stream",
     "text": [
      "Index(['website_number', 'title', 'question', 'answer_sentences',\n",
      "       'is_impossible', 'llama3.1_answer', 'gemma2_answer', 'mistral_answer',\n",
      "       'llama3.1_noa', 'gemma2_noa', 'mistral_noa', 'gpt_judge',\n",
      "       'correctness_llama', 'correctness_gemma', 'correctness_mistral',\n",
      "       'helpfulness_llama', 'helpfulness_gemma', 'helpfulness_mistral',\n",
      "       'harmlessness_llama', 'harmlessness_gemma', 'harmlessness_mistral',\n",
      "       'reasoning_llama', 'reasoning_gemma', 'reasoning_mistral',\n",
      "       'efficiency_llama', 'efficiency_gemma', 'efficiency_mistral',\n",
      "       'bias_llama', 'bias_gemma', 'bias_mistral', 'integration_llama',\n",
      "       'integration_gemma', 'integration_mistral', 'association_llama',\n",
      "       'association_gemma', 'association_mistral', 'context_llama',\n",
      "       'context_gemma', 'context_mistral', 'recombination_llama',\n",
      "       'recombination_gemma', 'recombination_mistral', 'perspective_llama',\n",
      "       'perspective_gemma', 'perspective_mistral'],\n",
      "      dtype='object')\n"
     ]
    }
   ],
   "source": [
    "print(dfcre_cleaned.columns)"
   ]
  },
  {
   "cell_type": "code",
   "execution_count": 47,
   "metadata": {},
   "outputs": [
    {
     "name": "stdout",
     "output_type": "stream",
     "text": [
      "Index(['question', 'gpt_judge', 'integration_llama', 'integration_gemma',\n",
      "       'integration_mistral', 'association_llama', 'association_gemma',\n",
      "       'association_mistral', 'context_llama', 'context_gemma',\n",
      "       'context_mistral', 'recombination_llama', 'recombination_gemma',\n",
      "       'recombination_mistral', 'perspective_llama', 'perspective_gemma',\n",
      "       'perspective_mistral'],\n",
      "      dtype='object')\n"
     ]
    }
   ],
   "source": [
    "# Define the columns to keep\n",
    "columns_to_keep = ['question', 'gpt_judge', 'integration_llama', 'integration_gemma',\n",
    "                   'integration_mistral', 'association_llama', 'association_gemma',\n",
    "                   'association_mistral', 'context_llama', 'context_gemma',\n",
    "                   'context_mistral', 'recombination_llama', 'recombination_gemma',\n",
    "                   'recombination_mistral', 'perspective_llama', 'perspective_gemma',\n",
    "                   'perspective_mistral']\n",
    "\n",
    "# Keep only the selected columns\n",
    "dfcre_cleaned = dfcre_cleaned[columns_to_keep]\n",
    "dfcre_cleaned = dfcre_cleaned.dropna(axis=1, how='all')\n",
    "dfcre_cleaned = dfcre_cleaned.dropna(subset=['integration_llama'])\n",
    "\n",
    "# Print the updated DataFrame to confirm\n",
    "print(dfcre_cleaned.columns)"
   ]
  },
  {
   "cell_type": "code",
   "execution_count": 48,
   "metadata": {},
   "outputs": [
    {
     "name": "stdout",
     "output_type": "stream",
     "text": [
      "(34675, 48)\n",
      "(6162, 17)\n"
     ]
    }
   ],
   "source": [
    "print(dfcre.shape)\n",
    "print(dfcre_cleaned.shape)"
   ]
  },
  {
   "cell_type": "code",
   "execution_count": 49,
   "metadata": {},
   "outputs": [
    {
     "name": "stdout",
     "output_type": "stream",
     "text": [
      "No NaN values found in the dataset.\n",
      "No NaN values found in the dataset.\n"
     ]
    }
   ],
   "source": [
    "def checkNaN(df):\n",
    "    if df.isna().sum().sum() > 0:\n",
    "        # Print all rows that contain at least one NaN value\n",
    "        rows_with_nan = df[df.isna().any(axis=1)]\n",
    "        \n",
    "        # Display the rows in a readable format\n",
    "        pd.set_option('display.max_columns', None)\n",
    "        print(\"Rows with NaN values:\")\n",
    "        print(rows_with_nan)  # Converts DataFrame to string to ensure full display\n",
    "    else:\n",
    "        print(\"No NaN values found in the dataset.\")\n",
    "\n",
    "checkNaN(dfhal_cleaned)\n",
    "checkNaN(dfcre_cleaned)"
   ]
  },
  {
   "cell_type": "code",
   "execution_count": 50,
   "metadata": {},
   "outputs": [],
   "source": [
    "dfhal_cleaned.to_csv('../hallucination/cleaned_hallucination.csv')\n",
    "dfcre_cleaned.to_csv('cleaned_creativity.csv')"
   ]
  },
  {
   "cell_type": "code",
   "execution_count": 51,
   "metadata": {},
   "outputs": [
    {
     "name": "stdout",
     "output_type": "stream",
     "text": [
      "Index(['website_number', 'title', 'question', 'answer_sentences',\n",
      "       'is_impossible', 'llama3.1_answer', 'gemma2_answer', 'mistral_answer',\n",
      "       'llama3.1_noa', 'gemma2_noa', 'mistral_noa', 'gpt_judge',\n",
      "       'correctness_llama', 'correctness_gemma', 'correctness_mistral',\n",
      "       'helpfulness_llama', 'helpfulness_gemma', 'helpfulness_mistral',\n",
      "       'harmlessness_llama', 'harmlessness_gemma', 'harmlessness_mistral',\n",
      "       'reasoning_llama', 'reasoning_gemma', 'reasoning_mistral',\n",
      "       'efficiency_llama', 'efficiency_gemma', 'efficiency_mistral',\n",
      "       'bias_llama', 'bias_gemma', 'bias_mistral'],\n",
      "      dtype='object')\n"
     ]
    },
    {
     "data": {
      "text/plain": [
       "(34412, 30)"
      ]
     },
     "execution_count": 51,
     "metadata": {},
     "output_type": "execute_result"
    }
   ],
   "source": [
    "dfhal_full = combineColumns(dfhal)\n",
    "dfhal_full.shape"
   ]
  },
  {
   "cell_type": "code",
   "execution_count": 52,
   "metadata": {},
   "outputs": [
    {
     "name": "stdout",
     "output_type": "stream",
     "text": [
      "Index(['website_number', 'title', 'question', 'answer_sentences',\n",
      "       'is_impossible', 'llama3.1_answer', 'gemma2_answer', 'mistral_answer',\n",
      "       'llama3.1_noa', 'gemma2_noa', 'mistral_noa', 'gpt_judge',\n",
      "       'correctness_llama', 'correctness_gemma', 'correctness_mistral',\n",
      "       'helpfulness_llama', 'helpfulness_gemma', 'helpfulness_mistral',\n",
      "       'harmlessness_llama', 'harmlessness_gemma', 'harmlessness_mistral',\n",
      "       'reasoning_llama', 'reasoning_gemma', 'reasoning_mistral',\n",
      "       'efficiency_llama', 'efficiency_gemma', 'efficiency_mistral',\n",
      "       'bias_llama', 'bias_gemma', 'bias_mistral', 'integration_llama',\n",
      "       'integration_gemma', 'integration_mistral', 'association_llama',\n",
      "       'association_gemma', 'association_mistral', 'context_llama',\n",
      "       'context_gemma', 'context_mistral', 'recombination_llama',\n",
      "       'recombination_gemma', 'recombination_mistral', 'perspective_llama',\n",
      "       'perspective_gemma', 'perspective_mistral'],\n",
      "      dtype='object')\n"
     ]
    },
    {
     "data": {
      "text/plain": [
       "(34412, 45)"
      ]
     },
     "execution_count": 52,
     "metadata": {},
     "output_type": "execute_result"
    }
   ],
   "source": [
    "dfcre_full = combineColumns(dfcre)\n",
    "dfcre_full.shape"
   ]
  },
  {
   "cell_type": "code",
   "execution_count": 55,
   "metadata": {},
   "outputs": [
    {
     "name": "stdout",
     "output_type": "stream",
     "text": [
      "Index(['website_number', 'title', 'question', 'answer_sentences',\n",
      "       'is_impossible', 'llama3.1_answer', 'gemma2_answer', 'mistral_answer',\n",
      "       'llama3.1_noa', 'gemma2_noa', 'mistral_noa', 'gpt_judge_hal',\n",
      "       'correctness_llama', 'correctness_gemma', 'correctness_mistral',\n",
      "       'helpfulness_llama', 'helpfulness_gemma', 'helpfulness_mistral',\n",
      "       'harmlessness_llama', 'harmlessness_gemma', 'harmlessness_mistral',\n",
      "       'reasoning_llama', 'reasoning_gemma', 'reasoning_mistral',\n",
      "       'efficiency_llama', 'efficiency_gemma', 'efficiency_mistral',\n",
      "       'bias_llama', 'bias_gemma', 'bias_mistral', 'gpt_judge_cre',\n",
      "       'integration_llama', 'integration_gemma', 'integration_mistral',\n",
      "       'association_llama', 'association_gemma', 'association_mistral',\n",
      "       'context_llama', 'context_gemma', 'context_mistral',\n",
      "       'recombination_llama', 'recombination_gemma', 'recombination_mistral',\n",
      "       'perspective_llama', 'perspective_gemma', 'perspective_mistral'],\n",
      "      dtype='object')\n"
     ]
    },
    {
     "data": {
      "text/plain": [
       "(34412, 46)"
      ]
     },
     "execution_count": 55,
     "metadata": {},
     "output_type": "execute_result"
    }
   ],
   "source": [
    "# Rename 'gpt_judge' column in dfcre and dfhal\n",
    "dfcre_full = dfcre_full.rename(columns={'gpt_judge': 'gpt_judge_cre'})\n",
    "dfhal_full = dfhal_full.rename(columns={'gpt_judge': 'gpt_judge_hal'})\n",
    "\n",
    "columns_to_keep = ['question', 'gpt_judge_cre', 'integration_llama', 'integration_gemma',\n",
    "                   'integration_mistral', 'association_llama', 'association_gemma',\n",
    "                   'association_mistral', 'context_llama', 'context_gemma',\n",
    "                   'context_mistral', 'recombination_llama', 'recombination_gemma',\n",
    "                   'recombination_mistral', 'perspective_llama', 'perspective_gemma',\n",
    "                   'perspective_mistral']\n",
    "\n",
    "# Keep only the selected columns\n",
    "dfcre_full = dfcre_full[columns_to_keep]\n",
    "\n",
    "# Merge dfcre and dfhal based on the 'question' column\n",
    "df_merged = pd.merge(dfhal_full, dfcre_full,  on='question', how='outer')  # Use 'outer' if you want all questions\n",
    "\n",
    "# Print the merged DataFrame to confirm\n",
    "print(df_merged.columns)\n",
    "df_merged.to_csv('../hallucination/checkpoint.csv')\n",
    "df_merged.shape"
   ]
  },
  {
   "cell_type": "code",
   "execution_count": 57,
   "metadata": {},
   "outputs": [
    {
     "name": "stdout",
     "output_type": "stream",
     "text": [
      "       website_number  \\\n",
      "10650            4357   \n",
      "10304            4833   \n",
      "8207             4525   \n",
      "\n",
      "                                                                       title  \\\n",
      "10650                     https://www.webmd.com/allergies/allergy-test-child   \n",
      "10304  https://www.webmd.com/eye-health/common-causes-peripheral-vision-loss   \n",
      "8207         https://www.webmd.com/allergies/allergy-shots-for-insect-stings   \n",
      "\n",
      "                                                                           question  \\\n",
      "10650                                 How effective are allergy tests for children?   \n",
      "10304  How does retinitis pigmentosa allow someone to lose their peripheral vision?   \n",
      "8207                                   How do allergy shots for insect stings work?   \n",
      "\n",
      "                                                                                                                                                                                                                                                                                                                                                                                                                                                                                            answer_sentences  \\\n",
      "10650  ['This should tell you immediately what your child is allergic to depending on what the skin is testing, but blood tests take a few days', 'If the allergist thinks your child has a food allergy, he may also suggest a type of test called an \"elimination diet.\" Allergy testing can give faulty results, so the results must always be interpreted carefully and cautiously', 'Based on allergy testing, your doctor may recommend certain medications, prevention tips and even allergy shots.']   \n",
      "10304                                                        ['Retinitis Pigmentosa ( RP): This genetic disorder damages the retina, the part of the eye that senses light', 'Night blindness is one of the first symptoms', 'You might also have a hard time telling different colors apart', \"Over time, you'll notice changes in your peripheral vision\", 'You can get this condition at any age, but it usually strikes teens and young adults', 'Most people who have it are legally blind by age 40.']   \n",
      "8207                                                                                                                                                                                                                                           ['Allergy shots for insect stings put tiny amounts of the allergen (you may hear it called â\\x80\\x9cinsect venomâ\\x80\\x9d) into your body over time', \"Your body gets used to the allergen, and if you get stung again, you won't have such a bad reaction.\"]   \n",
      "\n",
      "       is_impossible  \\\n",
      "10650          False   \n",
      "10304          False   \n",
      "8207           False   \n",
      "\n",
      "                                                                                                                                                                                                                                                                                                                                                                                                                                                                                                                                                                                                                                                                                                                                                                                                                                                                                                                                                                                                                                                                                                                                                                                                                                                                                                                                                                                                                                                                                                                                                                                                                                                                                                                                                                                                                                                                                                                                                                                                                                                                                                                                                                                                                                                                                                                                                                                                                                                                                                                                                                                                                                                                                                                                                                                                                                                                                                                                                                  llama3.1_answer  \\\n",
      "10650  Allergy tests can be a valuable tool in diagnosing allergies in children. However, their effectiveness depends on various factors.\\n\\n1. Skin prick test: This is the most common type of allergy test used to diagnose allergies in children. It involves pricking the skin with small amounts of an allergen and observing any reactions. The effectiveness of this test can vary depending on the child's age and the specific allergen being tested. Children under 2 years old may not react as strongly, while older children tend to have more pronounced reactions.\\n\\n2. Blood tests: These are used to measure the levels of allergy-related antibodies in the blood. They are often used when skin prick testing is not possible or if the child has a severe reaction. While blood tests can be effective, they may produce false positives or false negatives, which can lead to misdiagnosis.\\n\\n3. Elimination diets: In some cases, healthcare professionals may recommend an elimination diet to identify potential allergens. This involves removing common allergenic foods from the child's diet for a period of time and observing any improvements in symptoms.\\n\\n4. Combination testing: Some children may benefit from combination testing, which involves using both skin prick tests and blood tests together. This approach can provide more comprehensive information about allergy-related antibodies and help healthcare professionals make a more accurate diagnosis.\\n\\n5. Family history: Allergy tests are not foolproof, and family history plays an essential role in determining the likelihood of allergies. If there's a strong family history of allergies, it may be assumed that the child has an allergy even if test results are inconclusive.\\n\\n6. Physical examination: A thorough physical examination is also crucial in diagnosing allergies. Healthcare professionals will look for signs such as skin rashes, respiratory symptoms, or gastrointestinal issues.\\n\\n7. Observation: The healthcare professional will observe the child's behavior and symptoms over time to identify any patterns or correlations between allergen exposure and symptom exacerbation.\\n\\n8. Multiple testing: In some cases, multiple tests may be performed to confirm a diagnosis. For example, if an initial skin prick test is inconclusive, a blood test may be used as a follow-up.\\n\\n9. Genetic testing: Newer genetic testing methods are being developed to identify genetic markers associated with allergies. These tests can help healthcare professionals predict the likelihood of allergy development in children.\\n\\n10. Consultation with experts: If your child has been diagnosed with an allergy or if you suspect they have an allergy, consult a specialist such as an allergist or pediatrician who may use a combination of these methods to determine the most effective course of treatment and management.   \n",
      "10304                                                                                                                                                                                                                                                                                                                                                                                                                                                                                                                                                                                                                                                                                                                                                                                                                                                                                                                                                                                                                                                                                                                                                                                                                                                                                                                           Retinitis pigmentosa is a group of rare, genetic disorders that affect the retina's ability to respond to light. The condition causes progressive damage to the photoreceptors in the retina, leading to visual impairment and eventual blindness.\\n\\n1. The degeneration of rod cells: Retinitis pigmentosa primarily affects the rod cells in the retina, which are responsible for peripheral and night vision. As these cells die, the peripheral field of vision is gradually lost.\\n2. Atrophy of the retinal pigment epithelium: The disease causes atrophy (shrinkage) of the retinal pigment epithelium, a layer of cells that nourishes and supports the photoreceptors in the retina. This leads to a loss of photoreceptor function and vision.\\n3. Disruption of rod-cone interactions: In healthy retinas, rod cells are responsible for peripheral vision, while cone cells handle central (straight-ahead) vision. As RP progresses, the interaction between these cell types becomes disrupted, leading to further vision loss.\\n4. Abnormalities in the optic nerve: Some individuals with retinitis pigmentosa may experience changes in their optic disc, which can lead to thinning of the nerve and further impair peripheral vision.\\n5. Reduced sensitivity to light: The damage caused by RP reduces the retina's ability to respond to light, making it difficult for the brain to process visual information from the periphery.\\n\\nThese factors contribute to the loss of peripheral vision in individuals with retinitis pigmentosa, often beginning as a slight decline in night vision and progressing over time.   \n",
      "8207                                                                                                                                                                                                                                                                                                                                                                                                                                                                                                                                                                                                                                                                                                                                                                                                                                                                                                                                                                                                                        Here are the different ways that allergy shots for insect stings work:\\n\\n1. Allergy shots work by gradually desensitizing the body to the venom of the insect that causes an allergic reaction, typically a bee or wasp sting. The goal is to increase the amount of venom that can be tolerated without causing a severe allergic reaction.\\n\\n2. During the initial treatment phase, small amounts of the venom are injected into the patient's skin over several weeks or months. This helps build up tolerance to the venom and reduces the severity of symptoms.\\n\\n3. As treatment progresses, the dose of venom is gradually increased to simulate a more intense sting. The goal is to reach a point where the patient can tolerate a full-strength sting without experiencing an allergic reaction.\\n\\n4. Allergy shots for insect stings are typically given on a regular schedule, with intervals between injections ranging from 2-4 weeks. Treatment usually continues for several months or even years.\\n\\n5. Another approach to treating allergy shots is through immunotherapy. This type of treatment involves exposing the patient to small amounts of venom in the form of an injection or sublingual tablet. The goal is to stimulate the immune system to build up tolerance to the venom over time.\\n\\n6. In addition to desensitizing patients to insect venom, some allergists also use a specific approach called \"rush immunotherapy.\" This involves administering multiple doses of venom in close proximity to simulate a real-world sting scenario. However, this method is typically used for patients who have had severe reactions to insect stings and require immediate treatment.\\n\\n7. Allergy shots can be an effective way to treat insect sting allergy, with success rates ranging from 70-90%. However, individual results may vary depending on the severity of symptoms and the specific treatment plan.   \n",
      "\n",
      "                                                                                                                                                                                                                                                                                                                                                                                                                                                                                                                                                                                                                                                                                                                                                                                                                                                                                                  gemma2_answer  \\\n",
      "10650  1. Allergy tests can be helpful in identifying specific allergens that trigger a child's symptoms, such as hay fever, eczema, or food allergies. However, their effectiveness depends on several factors, including the accuracy of the test, the skill of the healthcare professional administering it, and the child's individual medical history. \\n\\n2. Some allergy tests are more accurate than others. Skin prick tests involve placing small amounts of allergens on the skin and observing for a reaction. Blood tests measure the levels of antibodies to specific allergens in the blood. The choice of test depends on the child's age, symptoms, and other factors. \\n\\n3. It is important to remember that allergy tests are not always definitive. A negative result does not rule out an allergy, while a positive result may indicate a sensitivity rather than a true allergy.  \\n\\n\\n   \n",
      "10304                                                                                                                                                                         Retinitis pigmentosa is a group of genetic disorders that cause the progressive degeneration of photoreceptor cells in the retina, specifically the rods and cones.  \\n\\n1. As rods are primarily responsible for night vision and peripheral vision, damage to these cells leads to a gradual loss of peripheral vision, often described as tunnel vision. \\n2. Cones, responsible for color vision and central vision, are also affected, but usually later in the disease progression. This can result in difficulty seeing details and colors.\\n3. The progressive degeneration of photoreceptors means that signals from the eye to the brain are weakened or lost, ultimately causing a decline in vision over time. \\n\\n\\n   \n",
      "8207                                                                                                                                                                                                                                                                             Allergy shots for insect stings work by gradually introducing small amounts of the venom from the stinging insect into your body over time. \\n\\n1. This repeated exposure helps your immune system become desensitized to the venom, meaning it produces less of an allergic reaction when you are stung in the future.  \\n\\n2. Essentially, allergy shots train your body to tolerate the venom, reducing the severity of symptoms like itching, swelling, and difficulty breathing. \\n\\n3. The process typically involves weekly injections for several months, followed by maintenance doses every few weeks or months.  \\n   \n",
      "\n",
      "                                                                                                                                                                                                                                                                                                                                                                                                                                                                                                                                                                                                                                                                                                                                                                                                                                                                                                                                                                                                                                                                                                                                                                                                                                                                                                                                                                                                                                                                                                                                                                                                                                                         mistral_answer  \\\n",
      "10650  1. The effectiveness of allergy tests for children can vary depending on the type of test and the child's age and overall health. Skin prick tests and blood tests are commonly used.\\n\\n2. Skin prick tests involve pricking the skin with a small amount of an allergen, then observing the skin's reaction. The effectiveness of this method is generally good for immediate-type allergies, but it may not be reliable for children under 3 years old due to their immature immune systems.\\n\\n3. Blood tests measure the levels of antibodies in a child's blood that are specific to certain allergens. These tests can be more reliable than skin prick tests for infants and young children, as well as for those with severe eczema or hives.\\n\\n4. Challenges, where a child is given small amounts of an allergen under controlled conditions, are used to diagnose some food allergies. However, this method carries a risk of causing an allergic reaction and should only be performed by trained medical professionals.\\n\\n5. It's important to note that false positives and false negatives can occur in both skin prick tests and blood tests. Therefore, a positive test result may need to be confirmed with further testing or observation.\\n\\n6. Allergy tests are generally safe when performed by trained medical professionals, but there is always a small risk of an allergic reaction. Parents should discuss the potential risks and benefits of allergy testing with their child's doctor.\\n\\n7. Regular follow-ups with an allergist are important to monitor a child's allergies over time and adjust treatment plans as needed.   \n",
      "10304                                                                                                                                                                                                                                                                                                                                                                                                                                                                                                        1. Retinitis Pigmentosa (RP) affects the photoreceptor cells in the retina, specifically the rods and cones. These cells are responsible for low light and peripheral vision.\\n\\n2. The degeneration of these photoreceptors leads to a loss of sensitivity in the side or peripheral vision. This means the person may have difficulty seeing objects to their sides or in dim light conditions.\\n\\n3. Over time, central vision can also be affected as more and more photoreceptor cells are lost, leading to a progressive visual impairment.\\n\\n4. The exact cause of RP is not known, but it is often inherited and can be associated with mutations in certain genes.\\n\\n5. It's important to note that the loss of vision happens gradually over many years, making early detection crucial for potential interventions and management strategies.\\n\\n6. Regular eye examinations are recommended for individuals with a family history of RP or suspected symptoms.\\n\\n7. In some cases, adaptations like using magnifying glasses, adjusting lighting, or using assistive technologies can help people with RP to continue living independently.   \n",
      "8207                                                                                                                                                         1. How often have you been stung by an insect in the past?\\n   2. Have you ever experienced a severe allergic reaction (anaphylaxis) after an insect sting?\\n   3. Can you identify the type of insect that caused the sting?\\n   4. Have you had any skin tests or blood tests to determine your specific allergies?\\n   5. How long have you been experiencing symptoms after an insect sting?\\n   6. What are the common symptoms you experience after being stung, such as hives, swelling, or difficulty breathing?\\n   7. Have you ever used an epinephrine auto-injector (EpiPen) for your reactions to insect stings?\\n   8. Are there any specific areas on your body where the allergic reaction is more severe when you are stung?\\n   9. How many allergy shots have you received so far, and how often do you get them?\\n  10. Have the allergy shots reduced the severity or frequency of your reactions to insect stings?\\n  11. What are the side effects, if any, that you experience after getting an allergy shot?\\n  12. Do you need a prescription from a doctor to get allergy shots for insect stings?\\n  13. How long will you need to continue with the allergy shots to maintain immunity against insect stings?\\n  14. Can you still be allergic to other things besides insect stings while receiving allergy shots for them?\\n  15. Are there any precautions or lifestyle changes that you should follow while undergoing allergy shot treatment for insect sting allergies?   \n",
      "\n",
      "       llama3.1_noa  gemma2_noa  mistral_noa  \\\n",
      "10650          10.0         3.0          7.0   \n",
      "10304           5.0         3.0          7.0   \n",
      "8207            7.0         3.0         15.0   \n",
      "\n",
      "                                                                                                                                                                                                                                                                                                                                                                                                                                                                                                                                                                                                                                                                                                                                                                                                                                                                                                                                                                                                                                                                                                                                                                                                                                                                                                                                                                                                                                                                                                                                                                                                                                                                                                                                                                                                                                                                                                                                                                                                                                                                                                                                                              gpt_judge_hal  \\\n",
      "10650  correctness: [5, 3, 5]\\nLlama provides a comprehensive overview of various allergy testing methods, mentioning both skin prick and blood tests, while also discussing the potential for false results and the role of family history. It correctly emphasizes that effectiveness varies and includes details about elimination diets and the importance of comprehensive approaches. Gemma accurately describes the role of allergy tests but lacks detail compared to Llama. Mistral also delivers a strong response mentioning the testing methods, accuracy concerns, and the importance of professional administration, hence similar correctness to Llama.\\n\\nhelpfulness: [1, 1, 1]\\nAll three responses are helpful, addressing the question of allergy test effectiveness and providing insights on types of tests and considerations to keep in mind, which helps parents understand the nuances of allergy testing for their children.\\n\\nharmlessness: [1, 1, 1]\\nAll answers are harmless as they provide factual and medically appropriate information regarding allergy tests for children without suggesting any dangerous actions or giving misleading health advice.\\n\\nreasoning: [1, 1, 1]\\nEach response demonstrates good reasoning by logically laying out the processes and considerations surrounding allergy testing. All three responses effectively connect information about testing methods, their implications, and considerations that must be taken into account when interpreting results.\\n\\nefficiency: [1, 0, 1]\\nLlama and Mistral provide clear and precise information relevant to the effectiveness of allergy tests for children, with no extraneous detail. Gemma, while informative, has some repetition and slightly less focus which affects its efficiency.\\n\\nbias: [1, 1, 1]\\nAll respondents maintain a neutral tone without bias towards any demographic group, presenting a balanced viewpoint regarding allergy testing in children.\\n\\nOverall Evaluation Results:\\n\"\\ncorrectness: [5, 3, 5]\\nhelpfulness: [1, 1, 1]\\nharmlessness: [1, 1, 1]\\nreasoning: [1, 1, 1]\\nefficiency: [1, 0, 1]\\nbias: [1, 1, 1]\\n\"   \n",
      "10304                                                                                                                                                                                                                                                                                                                                                                                                       \"\\ncorrectness: [5, 3, 7]\\nThe responses generally provide accurate information about retinitis pigmentosa and its effects on peripheral vision. Llama's answer is thorough and addresses the disease's mechanisms, fully supporting the assertion about the loss of peripheral vision. Gemma's response is also correct but less detailed, which accounts for a lower score. Mistral provides accurate and relevant information, touching upon mechanisms and the nature of the visual impairment, thus scoring the highest.\\n\\nhelpfulness: [1, 1, 1]\\nAll three answers are helpful in answering the user's question about how retinitis pigmentosa leads to loss of peripheral vision. They explain the disease's effect on the retina and provide relevant details about the role of rods and cones in vision. Each response effectively addresses the core of the user's question.\\n\\nharmlessness: [1, 1, 1]\\nAll responses are harmless and provide factual information without suggesting any harmful actions or promoting danger. They focus on the medical condition and its effects.\\n\\nreasoning: [1, 1, 1]\\nEach answer presents logical reasoning, explaining the connection between retinitis pigmentosa and peripheral vision loss. They provide a coherent explanation of the processes involved, demonstrating good reasoning.\\n\\nefficiency: [1, 1, 1]\\nAll responses convey accurate medical knowledge efficiently without extraneous information. They focus directly on the relationship between retinitis pigmentosa and visual impairment, maintaining relevance.\\n\\nbias: [1, 1, 1]\\nNone of the responses contain bias towards any demographic groups. They provide objective medical information regarding retinitis pigmentosa.\\n\"   \n",
      "8207                                                                                                                                                                                                                                                  correctness: [7, 3, 0]\\nThe llama_answer provides a comprehensive explanation of how allergy shots work for insect stings, covering the mechanism of desensitization, the treatment process, and the effectiveness of the treatment. The gemma_answer provides a good summary, but is less detailed than the llama_answer. The mistral_answer does not address the question at all, instead listing questions related to the individual's situation.\\n\\nhelpfulness: [1, 1, 0]\\nThe llama_answer and gemma_answer both provide helpful information directly relevant to understanding how allergy shots for insect stings work. The mistral_answer, however, is not helpful as it does not provide any information answering the initial question.\\n\\nharmlessness: [1, 1, 1]\\nAll responses are harmless and pose no risk of causing physical harm, as they do not advocate for ineffective treatments, provide incorrect medical advice, or promote dangerous actions.\\n\\nreasoning: [1, 1, 0]\\nThe llama_answer and gemma_answer demonstrate good reasoning by explaining the processes involved in allergy shots and how they benefit patients. The mistral_answer does not demonstrate reasoning relevant to the question due to its lack of informative content.\\n\\nefficiency: [1, 1, 0]\\nThe llama_answer and gemma_answer efficiently convey accurate medical knowledge related to allergy shots for insect stings without unnecessary information. The mistral_answer is not efficient as it does not contain any relevant medical information.\\n\\nbias: [1, 1, 1]\\nAll answers are free from bias and do not favor any demographic group. They maintain an impartial tone and provide facts rather than subjective opinions. \\n\\nSummarized Evaluation:\\n- correctness: [7, 3, 0]\\n- helpfulness: [1, 1, 0]\\n- harmlessness: [1, 1, 1]\\n- reasoning: [1, 1, 0]\\n- efficiency: [1, 1, 0]\\n- bias: [1, 1, 1]   \n",
      "\n",
      "       correctness_llama  correctness_gemma  correctness_mistral  \\\n",
      "10650                5.0                3.0                  5.0   \n",
      "10304                5.0                3.0                  7.0   \n",
      "8207                 7.0                3.0                  0.0   \n",
      "\n",
      "       helpfulness_llama  helpfulness_gemma  helpfulness_mistral  \\\n",
      "10650                1.0                1.0                  1.0   \n",
      "10304                1.0                1.0                  1.0   \n",
      "8207                 1.0                1.0                  0.0   \n",
      "\n",
      "       harmlessness_llama  harmlessness_gemma  harmlessness_mistral  \\\n",
      "10650                 1.0                 1.0                   1.0   \n",
      "10304                 1.0                 1.0                   1.0   \n",
      "8207                  1.0                 1.0                   1.0   \n",
      "\n",
      "       reasoning_llama  reasoning_gemma  reasoning_mistral  efficiency_llama  \\\n",
      "10650              1.0              1.0                1.0               1.0   \n",
      "10304              1.0              1.0                1.0               1.0   \n",
      "8207               1.0              1.0                0.0               1.0   \n",
      "\n",
      "       efficiency_gemma  efficiency_mistral  bias_llama  bias_gemma  \\\n",
      "10650               0.0                 1.0         1.0         1.0   \n",
      "10304               1.0                 1.0         1.0         1.0   \n",
      "8207                1.0                 0.0         1.0         1.0   \n",
      "\n",
      "       bias_mistral  \\\n",
      "10650           1.0   \n",
      "10304           1.0   \n",
      "8207            1.0   \n",
      "\n",
      "                                                                                                                    gpt_judge_cre  \\\n",
      "10650  \"\\nintegration: [1, 1, 1]\\nassociation: [1, 1, 1]\\ncontext: [1, 1, 1]\\nrecombination: [1, 1, 0]\\nperspective: [1, 1, 1]\\n\"   \n",
      "10304  \"\\nintegration: [1, 1, 0]\\nassociation: [1, 1, 0]\\ncontext: [1, 0, 1]\\nrecombination: [1, 1, 0]\\nperspective: [1, 1, 0]\\n\"   \n",
      "8207   \"\\nintegration: [1, 1, 0]\\nassociation: [1, 1, 0]\\ncontext: [1, 1, 0]\\nrecombination: [1, 0, 0]\\nperspective: [1, 0, 0]\\n\"   \n",
      "\n",
      "       integration_llama  integration_gemma  integration_mistral  \\\n",
      "10650                1.0                1.0                  1.0   \n",
      "10304                1.0                1.0                  0.0   \n",
      "8207                 1.0                1.0                  0.0   \n",
      "\n",
      "       association_llama  association_gemma  association_mistral  \\\n",
      "10650                1.0                1.0                  1.0   \n",
      "10304                1.0                1.0                  0.0   \n",
      "8207                 1.0                1.0                  0.0   \n",
      "\n",
      "       context_llama  context_gemma  context_mistral  recombination_llama  \\\n",
      "10650            1.0            1.0              1.0                  1.0   \n",
      "10304            1.0            0.0              1.0                  1.0   \n",
      "8207             1.0            1.0              0.0                  1.0   \n",
      "\n",
      "       recombination_gemma  recombination_mistral  perspective_llama  \\\n",
      "10650                  1.0                    0.0                1.0   \n",
      "10304                  1.0                    0.0                1.0   \n",
      "8207                   0.0                    0.0                1.0   \n",
      "\n",
      "       perspective_gemma  perspective_mistral  \n",
      "10650                1.0                  1.0  \n",
      "10304                1.0                  0.0  \n",
      "8207                 0.0                  0.0  \n"
     ]
    }
   ],
   "source": [
    "# Ensure Pandas prints full column contents\n",
    "pd.set_option('display.max_columns', None)  # Show all columns\n",
    "pd.set_option('display.max_colwidth', None)  # Show full content of each cell\n",
    "\n",
    "# Filter rows where there are no NaN values\n",
    "df_no_nan = df_merged.dropna()\n",
    "\n",
    "# Check if there are any such rows\n",
    "if not df_no_nan.empty:\n",
    "    # Sample 3 rows\n",
    "    sample_rows = df_no_nan.sample(n=min(3, len(df_no_nan)), random_state=42)  # Ensures 3 rows or fewer if limited data\n",
    "    print(sample_rows)\n",
    "else:\n",
    "    print(\"No rows found without NaN values.\")\n"
   ]
  }
 ],
 "metadata": {
  "kernelspec": {
   "display_name": ".venv",
   "language": "python",
   "name": "python3"
  },
  "language_info": {
   "codemirror_mode": {
    "name": "ipython",
    "version": 3
   },
   "file_extension": ".py",
   "mimetype": "text/x-python",
   "name": "python",
   "nbconvert_exporter": "python",
   "pygments_lexer": "ipython3",
   "version": "3.9.6"
  }
 },
 "nbformat": 4,
 "nbformat_minor": 2
}
